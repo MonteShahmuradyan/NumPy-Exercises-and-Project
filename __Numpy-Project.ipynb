{
 "cells": [
  {
   "cell_type": "code",
   "execution_count": 1,
   "metadata": {
    "id": "3Vn0GtnroyLK"
   },
   "outputs": [],
   "source": [
    "import numpy as np"
   ]
  },
  {
   "cell_type": "markdown",
   "metadata": {
    "id": "S-5fMn3ctow-"
   },
   "source": [
    "**Error handling**\n",
    "\n",
    ">1․ Եթե որպես ֆունկցիայի պարամետր ստանում եք numpy զանգված (վեկտոր կամ մատրից), և այն չի համապատասխանում խնդրում նշված չափին (dimensions) կամ չափերի անհամաձայնություններ կան, ապա վերադարցրեք(return) **\"DimensionError\"** տեքստը\n",
    "\n",
    ">2․ Եթե որպես ֆունկցիայի պարամետր ստանում եք 2D numpy զանգված (մատրից), և այն հակադարձելի(invertable) չէ, հակառակ խնդրի պահանջի, ապա վերադարցրեք(return) **\"NotInvertableError\"** տեքստը"
   ]
  },
  {
   "cell_type": "markdown",
   "metadata": {
    "id": "mffMhP2nwZLF"
   },
   "source": [
    "# Problems"
   ]
  },
  {
   "cell_type": "markdown",
   "metadata": {
    "id": "fIp8Aopeo2Li"
   },
   "source": [
    "Problem 1. Compute the euclidean distance between two arrays. \n",
    "\n",
    "\n",
    "> Հաշվիր 2 զանգվածների Էվկլիդյան հեռավորությունը։\n",
    "\n",
    "\n",
    "```\n",
    "a, b = np.array([1, 2]), np.array([1, 3])\n",
    "print(dist(a, b))\n",
    ">>1\n",
    "```\n"
   ]
  },
  {
   "cell_type": "code",
   "execution_count": 2,
   "metadata": {
    "id": "sjKBosqwpDCA"
   },
   "outputs": [],
   "source": [
    "def dist(a, b):\n",
    "    if len(a) == len(b):\n",
    "        return sum([(i - j) ** 2 for i, j in zip(a, b)]) ** 0.5\n",
    "    else:\n",
    "        return \"DimensionError\""
   ]
  },
  {
   "cell_type": "code",
   "execution_count": 3,
   "metadata": {
    "id": "0y9bn1qa75-i"
   },
   "outputs": [],
   "source": [
    "# Do not modify this cell\n",
    "a, b = np.array([1, 1]), np.array([1, 3])\n",
    "assert dist(a, b) == 2\n",
    "\n",
    "a, b = np.array([-10, 1.5]), np.array([0.9, 3.6])\n",
    "assert round(dist(a, b), 2) == 11.1\n",
    "\n",
    "a, b = np.array([1, 1, 1]), np.array([0, -1, 3])\n",
    "assert dist(a, b) == 3\n",
    "\n",
    "a, b = np.array([1, 0, -999]), np.array([1, 3])\n",
    "assert dist(a, b) == \"DimensionError\"\n",
    "\n",
    "a, b = np.array([10, -1, 9, 1, 2.98, -0.14]), np.array([0, -1, 3.14, np.pi, 99, np.e])\n",
    "assert round(dist(a, b), 2) == 96.78"
   ]
  },
  {
   "cell_type": "markdown",
   "metadata": {
    "id": "HLs6-36QrdHR"
   },
   "source": [
    "Problem 2. Normalize an array so the values range exactly between 0 and 1․\n",
    "\n",
    "> Նորմավորիր զանգվածը այնպես, որ արժեքները լինեն 0-ից 1 միջակայքում։\n",
    "\n",
    "```\n",
    "a = np.array([1,2,3,4])\n",
    "print(rescale(a))\n",
    ">>[0, 0.3333333, 0.66666667, 1]\n",
    "```\n",
    "\n"
   ]
  },
  {
   "cell_type": "code",
   "execution_count": 4,
   "metadata": {
    "id": "K0r9MmixsJNt"
   },
   "outputs": [],
   "source": [
    "def rescale(a):\n",
    "    for i in a:\n",
    "        return [(i - a.min()) / (a.max() - a.min()) for i in a]"
   ]
  },
  {
   "cell_type": "code",
   "execution_count": 5,
   "metadata": {
    "id": "wWqXPufKP6Y4"
   },
   "outputs": [],
   "source": [
    "# Do not modify this cell\n",
    "assert np.all(rescale(np.array([1, 2, 3, 4])) == [0, 1/3, 2/3, 1])\n",
    "assert np.all(rescale(np.array([0, 1])) == [0, 1])\n",
    "assert np.all(rescale(np.array([0, 10])) == [0, 1])\n",
    "assert np.all(rescale(np.array([1, 2, 4])) == [0, 1/3, 1])"
   ]
  },
  {
   "cell_type": "markdown",
   "metadata": {
    "id": "XwZdpMJnwecr"
   },
   "source": [
    "Problem 3. Given a numpy array 'a' that contains n elements, denote by b the set of its unique values ​​in ascending order, denote by m the size of array b. You need to create a numpy array with dimensions $n \\times m$, in each row of which there must be a value of 1 in case it is equal to the value of the given index of array b, in other places it must be 0.\n",
    "\n",
    "> Տրված է numpy զանգված 'a', որը պարունակում է n էլեմենտ, b-ով նշանակենք նրա ունիկալ արժեքների (արժեքներն առանց կրկնության) զանգվածը ըստ աճման կարգի, m-ով նշանակենք b զանգվածի չափը: Հարկավոր է ստեղծել numpy զանգված $n \\times m$ չափերով, որի i-րդ տողի j-րդ սյան տեղում պետք է գրված լինի 1 այն դեպքում, երբ a-ի i-րդ անդամը հավասար է b֊ի j-րդ արժեքին, իսկ մնացած տեղերում պետք է լինեն 0֊ներ։\n",
    "\n",
    "\n",
    "```\n",
    "a = np.array([1, 1, 2, 3, 2, 4])\n",
    "# b = np.array([1, 2, 3, 4])\n",
    "print(convert(a))\n",
    ">>[[1, 0, 0, 0],\n",
    "  [1, 0, 0, 0],\n",
    "  [0, 1, 0, 0],\n",
    "  [0, 0, 1, 0],\n",
    "  [0, 1, 0, 0],\n",
    "  [0, 0, 0, 1]]\n",
    "```\n",
    "\n"
   ]
  },
  {
   "cell_type": "code",
   "execution_count": 6,
   "metadata": {
    "id": "nndj1yZo1LYg"
   },
   "outputs": [],
   "source": [
    "def convert(a):\n",
    "    b = np.unique(a)\n",
    "    arr = np.zeros((len(a), len(b)))\n",
    "    for i in range(0, len(a)):\n",
    "        for j in range(0, len(b)):\n",
    "            if a[i] == b[j]:\n",
    "                arr[i][j] = 1\n",
    "    return arr"
   ]
  },
  {
   "cell_type": "code",
   "execution_count": 19,
   "metadata": {
    "id": "3zFithXoQAZm"
   },
   "outputs": [],
   "source": [
    "# Do not modify this cell\n",
    "assert np.all(convert(np.array([0, 0, 2, 3, 2, 4])) ==\n",
    "              [[1, 0, 0, 0],\n",
    "               [1, 0, 0, 0],\n",
    "               [0, 1, 0, 0],\n",
    "               [0, 0, 1, 0],\n",
    "               [0, 1, 0, 0],\n",
    "               [0, 0, 0, 1]])\n",
    "\n",
    "assert np.all(convert(np.array([-np.pi, 9])) ==\n",
    "              [[1, 0],\n",
    "               [0, 1]])\n",
    "\n",
    "assert np.all(convert(np.array([-1, 1, 9, 10])) ==\n",
    "              [[1, 0, 0, 0],\n",
    "               [0, 1, 0, 0],\n",
    "               [0, 0, 1, 0],\n",
    "               [0, 0, 0, 1]])\n",
    "\n",
    "assert np.all(convert(np.array([np.sqrt(2), np.sqrt(2), np.sqrt(2)])) ==\n",
    "              [[1],\n",
    "               [1],\n",
    "               [1]])"
   ]
  },
  {
   "cell_type": "markdown",
   "metadata": {
    "id": "8dbLDnHL1lFz"
   },
   "source": [
    "Problem 4. Given a 2D numpy array 'a' of sizes $n \\times m$. You need to pad the matrix with 0s so that the dimensions of the matrix become  $(n+2n_1) \\times (m+2m_1)$\n",
    ">Տրված է 2D numpy զանգված 'a' $n \\times m$ չափերի, Հարկավոր է կողքերից հավասարաչափ 0-ներ ավելացնել այնպես, որ զանգվածի չափերը դառնան $(n+2n_1) \\times (m+2m_1)$\n",
    "\n",
    "```\n",
    "a = np.array([[1, 1], [1, 1]])\n",
    "n1 = 1\n",
    "m1 = 2\n",
    "print(padding(a, n1, m1))\n",
    ">>[[0, 0, 0, 0, 0, 0], \n",
    "  [0, 0, 1, 1, 0, 0],\n",
    "  [0, 0, 1, 1, 0, 0],\n",
    "  [0, 0, 0, 0, 0, 0]]\n",
    "```\n",
    "\n"
   ]
  },
  {
   "cell_type": "code",
   "execution_count": 7,
   "metadata": {
    "id": "0F2167Kx26lj"
   },
   "outputs": [
    {
     "name": "stdout",
     "output_type": "stream",
     "text": [
      "[[0 0 0 0 0 0]\n",
      " [0 0 1 1 0 0]\n",
      " [0 0 1 1 0 0]\n",
      " [0 0 0 0 0 0]]\n"
     ]
    }
   ],
   "source": [
    "a = np.array([[1, 1], [1, 1]])\n",
    "n1 = 1\n",
    "m1 = 2\n",
    "def padding(a, n1, m1):\n",
    "    return np.pad(a, ([n1, n1], [m1, m1]))\n",
    "print(padding(a, n1, m1))"
   ]
  },
  {
   "cell_type": "code",
   "execution_count": 112,
   "metadata": {
    "id": "hHOL5kChQRCm"
   },
   "outputs": [],
   "source": [
    "# Do not modify this cell\n",
    "assert np.all(padding(np.array([[1, 1], [1, 1]]), 1, 2) ==\n",
    "              [[0, 0, 0, 0, 0, 0],\n",
    "               [0, 0, 1, 1, 0, 0],\n",
    "               [0, 0, 1, 1, 0, 0],\n",
    "               [0, 0, 0, 0, 0, 0]])\n",
    "\n",
    "assert np.all(padding(np.array([[1, 2], [1, 1]]), 0, 2) ==\n",
    "              [[0, 0, 1, 2, 0, 0],\n",
    "               [0, 0, 1, 1, 0, 0]])\n",
    "\n",
    "assert np.all(padding(np.array([[9]]), 2, 2) ==\n",
    "              [[0, 0, 0, 0, 0],\n",
    "               [0, 0, 0, 0, 0],\n",
    "               [0, 0, 9, 0, 0],\n",
    "               [0, 0, 0, 0, 0],\n",
    "               [0, 0, 0, 0, 0]])"
   ]
  },
  {
   "cell_type": "markdown",
   "metadata": {
    "id": "OuFdPfTNm3PW"
   },
   "source": [
    "Problem 5. Given 2D numpy arrays 'a' and 'b' of sizes $m \\times n$ and $k \\times k$ respectively (k <= n, k <= m), 2 integers 'stride' and 'padding' and 'f' function. You need to \n",
    "  1. first pad 'a' matrix with 0s on each side, \n",
    "  2. then move 'b'  over 'a' with stride 'stride', then multiply their elements by the corresponding 'b' elements, \n",
    "  3. add the resulting k * k numbers \n",
    "  4. apply the 'f' function to the result \n",
    "  5. and place them in the new matrix.\n",
    "\n",
    "  Տրված է 2D numpy զանգվածներ 'a' և 'b' համապատասխանաբար $m \\times n$ և $k \\times k$ չափերի (k<=n, k<=m), 2 ամբողջ թվեր 'stride' և 'padding' ու 'f' ֆունկցիա։ Հարկավոր է\n",
    "\n",
    "  1․ 'a' մատրիցին 'padding' չափով 0֊ներ ավելացնել յուրաքանչյուր կողմից,\n",
    "\n",
    "  2․ ապա 'b'֊ն 'stride' քայլով \"շարժել\" 'a'֊ի վրայով և 'a'֊ի համապատասխան էլեմենտները բազմապատկել 'b'-ի համապատասխան էլեմենտներով,\n",
    "\n",
    "  3․ ստացված k*k հատ թվերը գումարել,\n",
    "\n",
    "  4․ արդյունքի վրա կիրառել 'f' ֆունկցիան\n",
    "\n",
    "  5․ և տեղադրել նոր մատրիցում։\n",
    "\n",
    "```\n",
    "a = np.array([[1, 1, 2],\n",
    "              [0, 1, 3],\n",
    "              [1, 3, 0],\n",
    "              [4, 5, 2]])\n",
    "b = np.array([[1, 0],\n",
    "              [0, 1]])\n",
    "\n",
    "stride = 1\n",
    "padding = 0\n",
    "f = lambda x: x**2\n",
    "print(conv(a, b, stride, padding, f))\n",
    ">>[[4, 16],\n",
    "  [9, 1],\n",
    "  [36, 25]]\n",
    "```\n",
    "![ConvUrl](https://miro.medium.com/max/2340/1*Fw-ehcNBR9byHtho-Rxbtw.gif \"conv\")\n"
   ]
  },
  {
   "cell_type": "code",
   "execution_count": 171,
   "metadata": {
    "id": "HV6IzuCX5lT1"
   },
   "outputs": [],
   "source": [
    "import numpy as np"
   ]
  },
  {
   "cell_type": "code",
   "execution_count": 172,
   "metadata": {
    "id": "fuEuPmyO4nmI"
   },
   "outputs": [
    {
     "name": "stdout",
     "output_type": "stream",
     "text": [
      "[[ 4. 16.]\n",
      " [ 9.  1.]\n",
      " [36. 25.]]\n"
     ]
    }
   ],
   "source": [
    "a = np.array([[1, 1, 2],\n",
    "              [0, 1, 3],\n",
    "              [1, 3, 0],\n",
    "              [4, 5, 2]])\n",
    "b = np.array([[1, 0],\n",
    "              [0, 1]])\n",
    "stride = 1\n",
    "padding = 0\n",
    "f = lambda x: x**2\n",
    "def conv(a, b, stride, padding, f):\n",
    "    m, n = a.shape\n",
    "    k, k = b.shape\n",
    "    padded_a = np.pad(a, padding, mode='constant', constant_values=0)\n",
    "    out_m = ((m - k + 2 * padding) // stride) + 1\n",
    "    out_n = ((n - k + 2 * padding) // stride) + 1\n",
    "    result = np.zeros((out_m, out_n))\n",
    "    for i in range(0, out_m * stride, stride):\n",
    "        for j in range(0, out_n * stride, stride):\n",
    "            region = padded_a[i:i+k, j:j+k]\n",
    "            elementwise_mul_sum = np.sum(region * b)\n",
    "            result[i // stride, j // stride] = f(elementwise_mul_sum)\n",
    "    return result\n",
    "print(conv(a, b, stride, padding, f))"
   ]
  },
  {
   "cell_type": "code",
   "execution_count": 173,
   "metadata": {
    "id": "oeJv0mheRCst"
   },
   "outputs": [
    {
     "ename": "ValueError",
     "evalue": "operands could not be broadcast together with shapes (3,3) (2,3) ",
     "output_type": "error",
     "traceback": [
      "\u001b[1;31m---------------------------------------------------------------------------\u001b[0m",
      "\u001b[1;31mValueError\u001b[0m                                Traceback (most recent call last)",
      "Cell \u001b[1;32mIn[173], line 23\u001b[0m\n\u001b[0;32m     18\u001b[0m \u001b[38;5;28;01massert\u001b[39;00m np\u001b[38;5;241m.\u001b[39mall(conv(a, b, \u001b[38;5;241m1\u001b[39m, \u001b[38;5;241m0\u001b[39m, f) \u001b[38;5;241m==\u001b[39m\n\u001b[0;32m     19\u001b[0m               [[\u001b[38;5;241m51.\u001b[39m],\n\u001b[0;32m     20\u001b[0m                [\u001b[38;5;241m0.\u001b[39m]])\n\u001b[0;32m     22\u001b[0m b \u001b[38;5;241m=\u001b[39m np\u001b[38;5;241m.\u001b[39marange(\u001b[38;5;241m6\u001b[39m)\u001b[38;5;241m.\u001b[39mreshape(\u001b[38;5;241m2\u001b[39m, \u001b[38;5;241m3\u001b[39m)\n\u001b[1;32m---> 23\u001b[0m \u001b[38;5;28;01massert\u001b[39;00m \u001b[43mconv\u001b[49m\u001b[43m(\u001b[49m\u001b[43ma\u001b[49m\u001b[43m,\u001b[49m\u001b[43m \u001b[49m\u001b[43mb\u001b[49m\u001b[43m,\u001b[49m\u001b[43m \u001b[49m\u001b[38;5;241;43m1\u001b[39;49m\u001b[43m,\u001b[49m\u001b[43m \u001b[49m\u001b[38;5;241;43m0\u001b[39;49m\u001b[43m,\u001b[49m\u001b[43m \u001b[49m\u001b[43mf\u001b[49m\u001b[43m)\u001b[49m \u001b[38;5;241m==\u001b[39m \u001b[38;5;124m\"\u001b[39m\u001b[38;5;124mDimensionError\u001b[39m\u001b[38;5;124m\"\u001b[39m\n",
      "Cell \u001b[1;32mIn[172], line 20\u001b[0m, in \u001b[0;36mconv\u001b[1;34m(a, b, stride, padding, f)\u001b[0m\n\u001b[0;32m     18\u001b[0m     \u001b[38;5;28;01mfor\u001b[39;00m j \u001b[38;5;129;01min\u001b[39;00m \u001b[38;5;28mrange\u001b[39m(\u001b[38;5;241m0\u001b[39m, out_n \u001b[38;5;241m*\u001b[39m stride, stride):\n\u001b[0;32m     19\u001b[0m         region \u001b[38;5;241m=\u001b[39m padded_a[i:i\u001b[38;5;241m+\u001b[39mk, j:j\u001b[38;5;241m+\u001b[39mk]\n\u001b[1;32m---> 20\u001b[0m         elementwise_mul_sum \u001b[38;5;241m=\u001b[39m np\u001b[38;5;241m.\u001b[39msum(\u001b[43mregion\u001b[49m\u001b[43m \u001b[49m\u001b[38;5;241;43m*\u001b[39;49m\u001b[43m \u001b[49m\u001b[43mb\u001b[49m)\n\u001b[0;32m     21\u001b[0m         result[i \u001b[38;5;241m/\u001b[39m\u001b[38;5;241m/\u001b[39m stride, j \u001b[38;5;241m/\u001b[39m\u001b[38;5;241m/\u001b[39m stride] \u001b[38;5;241m=\u001b[39m f(elementwise_mul_sum)\n\u001b[0;32m     22\u001b[0m \u001b[38;5;28;01mreturn\u001b[39;00m result\n",
      "\u001b[1;31mValueError\u001b[0m: operands could not be broadcast together with shapes (3,3) (2,3) "
     ]
    }
   ],
   "source": [
    "# Do not modify this cell\n",
    "a = np.array([[1, 1, 2],\n",
    "              [0, 1, 3],\n",
    "              [1, 3, 0]])\n",
    "b = np.array([[1, 0],\n",
    "              [0, 1]])\n",
    "f = lambda x: x**2\n",
    "assert np.all(conv(a, b, 1, 0, f) ==\n",
    "              [[4., 16.],\n",
    "               [9.,  1.]])\n",
    "\n",
    "a = np.array([[1, 1, 2],\n",
    "              [0, 1, 3],\n",
    "              [1, 3, 0],\n",
    "              [-10, -3, 0]])\n",
    "b = np.arange(9).reshape(3, 3)\n",
    "f = lambda x:0 if x<0 else x\n",
    "assert np.all(conv(a, b, 1, 0, f) ==\n",
    "              [[51.],\n",
    "               [0.]])\n",
    "\n",
    "b = np.arange(6).reshape(2, 3)\n",
    "assert conv(a, b, 1, 0, f) == \"DimensionError\""
   ]
  },
  {
   "cell_type": "code",
   "execution_count": 174,
   "metadata": {
    "id": "0zeuCoqx6nux"
   },
   "outputs": [
    {
     "data": {
      "text/plain": [
       "[0]"
      ]
     },
     "execution_count": 174,
     "metadata": {},
     "output_type": "execute_result"
    }
   ],
   "source": [
    "list(range(0, 1, 1))"
   ]
  },
  {
   "cell_type": "markdown",
   "metadata": {
    "id": "Ix9cu39P5Sr1"
   },
   "source": [
    "Problem 6. Given a 2D numpy array 'a' of sizes $m \\times n$ whose each line is labeled with 0 or 1 numbers and a  vector  (of size n) which is not labeled. You need to find the appropriate label for 'b'. In the 'a' matrix, find the line closest to 'b' (according to the Euclidean distance) and label 'b' with the label of that line.\n",
    ">Տրված է $m \\times n$ չափանի 2D numpy զանգված՝ 'a', որի յուրաքանչյուր տող պիտակավորված (label) է 0 կամ 1 թվերով և 'b' վեկտոր (n չափի) որը պիտակավորված չէ։ Հարկավոր է գտնել 'b'֊ի համապատասխան պիտակը (label)՝ գտնելով 'a' մատրիցում 'b'ին ամենամոտ  տողը (ըստ Էվկլիդյան հեռավորության) և 'b'֊ն պիտակավորեք այդ տողի պիտակով։\n",
    "\n",
    "```\n",
    "a = np.array([[1, -2],\n",
    "              [2, 5],\n",
    "              [-3, -10],\n",
    "              [3, 2],\n",
    "              [3, 2],\n",
    "              [0, 1]])\n",
    "labels = np.array([0,1,0,1,1,0])\n",
    "b = np.array([10,10])\n",
    "print(predict_label(a,labels,b))\n",
    ">>1\n",
    "```\n",
    "\n"
   ]
  },
  {
   "cell_type": "code",
   "execution_count": 175,
   "metadata": {
    "id": "6XQ_7GIG80dp"
   },
   "outputs": [
    {
     "name": "stdout",
     "output_type": "stream",
     "text": [
      " The closest label of B to A is 2.\n"
     ]
    }
   ],
   "source": [
    "a = np.array([[1, -2],\n",
    "              [2, 5],\n",
    "              [-3, -10],\n",
    "              [3, 2],\n",
    "              [3, 2],\n",
    "              [0, 1]])\n",
    "labels = np.array([0,1,0,1,1,0])\n",
    "b = np.array([10,10])\n",
    "def predict_label(a,labels,b):\n",
    "    distances = np.linalg.norm(a - b, axis=1)\n",
    "    closest_index = np.argmin(distances)\n",
    "    closest_label = a[closest_index, 0]\n",
    "    return closest_label\n",
    "closest_label = predict_label(a, labels, b)\n",
    "\n",
    "print(f\" The closest label of B to A is {closest_label}.\")\n"
   ]
  },
  {
   "cell_type": "code",
   "execution_count": 176,
   "metadata": {
    "id": "lbfSXD2vRGiV"
   },
   "outputs": [
    {
     "ename": "AssertionError",
     "evalue": "",
     "output_type": "error",
     "traceback": [
      "\u001b[1;31m---------------------------------------------------------------------------\u001b[0m",
      "\u001b[1;31mAssertionError\u001b[0m                            Traceback (most recent call last)",
      "Cell \u001b[1;32mIn[176], line 10\u001b[0m\n\u001b[0;32m      2\u001b[0m a \u001b[38;5;241m=\u001b[39m np\u001b[38;5;241m.\u001b[39marray([[\u001b[38;5;241m1\u001b[39m, \u001b[38;5;241m-\u001b[39m\u001b[38;5;241m2\u001b[39m],\n\u001b[0;32m      3\u001b[0m               [\u001b[38;5;241m2\u001b[39m, \u001b[38;5;241m5\u001b[39m],\n\u001b[0;32m      4\u001b[0m               [\u001b[38;5;241m-\u001b[39m\u001b[38;5;241m3\u001b[39m, \u001b[38;5;241m-\u001b[39m\u001b[38;5;241m10\u001b[39m],\n\u001b[0;32m      5\u001b[0m               [\u001b[38;5;241m3\u001b[39m, \u001b[38;5;241m2\u001b[39m],\n\u001b[0;32m      6\u001b[0m               [\u001b[38;5;241m3\u001b[39m, \u001b[38;5;241m2\u001b[39m],\n\u001b[0;32m      7\u001b[0m               [\u001b[38;5;241m0\u001b[39m, \u001b[38;5;241m1\u001b[39m]])\n\u001b[0;32m      8\u001b[0m labels \u001b[38;5;241m=\u001b[39m np\u001b[38;5;241m.\u001b[39marray([\u001b[38;5;241m0\u001b[39m, \u001b[38;5;241m1\u001b[39m, \u001b[38;5;241m0\u001b[39m, \u001b[38;5;241m1\u001b[39m, \u001b[38;5;241m1\u001b[39m, \u001b[38;5;241m0\u001b[39m])\n\u001b[1;32m---> 10\u001b[0m \u001b[38;5;28;01massert\u001b[39;00m predict_label(a, labels, np\u001b[38;5;241m.\u001b[39marray([\u001b[38;5;241m10\u001b[39m, \u001b[38;5;241m10\u001b[39m])) \u001b[38;5;241m==\u001b[39m \u001b[38;5;241m1\u001b[39m\n\u001b[0;32m     11\u001b[0m \u001b[38;5;28;01massert\u001b[39;00m predict_label(a, labels, np\u001b[38;5;241m.\u001b[39marray([\u001b[38;5;241m10\u001b[39m, \u001b[38;5;241m-\u001b[39m\u001b[38;5;241m10\u001b[39m])) \u001b[38;5;241m==\u001b[39m \u001b[38;5;241m0\u001b[39m\n\u001b[0;32m     12\u001b[0m \u001b[38;5;28;01massert\u001b[39;00m predict_label(a, labels, np\u001b[38;5;241m.\u001b[39marray([\u001b[38;5;241m10\u001b[39m, \u001b[38;5;241m-\u001b[39m\u001b[38;5;241m1\u001b[39m])) \u001b[38;5;241m==\u001b[39m \u001b[38;5;241m1\u001b[39m\n",
      "\u001b[1;31mAssertionError\u001b[0m: "
     ]
    }
   ],
   "source": [
    "# Do not modify this cell\n",
    "a = np.array([[1, -2],\n",
    "              [2, 5],\n",
    "              [-3, -10],\n",
    "              [3, 2],\n",
    "              [3, 2],\n",
    "              [0, 1]])\n",
    "labels = np.array([0, 1, 0, 1, 1, 0])\n",
    "\n",
    "assert predict_label(a, labels, np.array([10, 10])) == 1\n",
    "assert predict_label(a, labels, np.array([10, -10])) == 0\n",
    "assert predict_label(a, labels, np.array([10, -1])) == 1\n",
    "assert predict_label(a, labels, np.array([1, 1, 0])) == \"DimensionError\"\n",
    "\n",
    "a = np.array([[0, 1, -2],\n",
    "              [2, 1, 5],\n",
    "              [-3, 3.5, -10],\n",
    "              [3, 2, 9],\n",
    "              [3, -2, 9]])\n",
    "labels = np.array([0, 1, 0, 1, 1])\n",
    "assert predict_label(a, labels, np.array([1])) == \"DimensionError\"\n",
    "assert predict_label(a, labels, np.array([1, 1, 0])) == 0\n",
    "assert predict_label(a, labels, np.array([1, 1, 10])) == 1"
   ]
  },
  {
   "cell_type": "markdown",
   "metadata": {
    "id": "Sun6i3oM81VS"
   },
   "source": [
    "Problem 7. Given a 2D numpy array 'a' of sizes $m \\times n$ with missing elements (NAN) and a string 'mode' $\\in$ {\"mean\",\"min\",\"max\"}. You need to write the {\"mean\",\"min\",\"max\"} ('mode') of the corresponding column instead of the missing elements.\n",
    ">Տրված է 2D numpy զանգված 'a' $m \\times n$ չափերի, որն ունի բացակայող էլեմենտներ (NAN) ու տեքստային փոփոխական 'mode' $\\in$ {\"mean\",\"min\",\"max\"}։ Հարկավոր է 'a' մատրիցի բացակայող էլեմենտների փոխարեն գրել համապատասխան սյան {միջինը, մինիմումը, մաքսիմումը} ըստ 'mode' փոփոխականի։\n",
    "\n",
    "```\n",
    "a = np.array([[np.nan, 200, 10],\n",
    "              [2, 110, np.nan],\n",
    "              [0, 120, 11],\n",
    "              [0, 400, np.nan],\n",
    "              [1, np.nan, 9]])\n",
    "mode = \"mean\"\n",
    "print(fill(a, mode))\n",
    ">>[[  0.75 200.    10.  ]\n",
    " [  2.   110.    10.  ]\n",
    " [  0.   120.    11.  ]\n",
    " [  0.   400.    10.  ]\n",
    " [  1.   207.5    9.  ]]\n",
    "```\n",
    "\n"
   ]
  },
  {
   "cell_type": "code",
   "execution_count": 41,
   "metadata": {
    "id": "tN_T-Agz-AiC"
   },
   "outputs": [
    {
     "name": "stdout",
     "output_type": "stream",
     "text": [
      "[[  0.75 200.    10.  ]\n",
      " [  2.   110.    10.  ]\n",
      " [  0.   120.    11.  ]\n",
      " [  0.   400.    10.  ]\n",
      " [  1.   207.5    9.  ]]\n"
     ]
    }
   ],
   "source": [
    "import numpy as np\n",
    "\n",
    "def fill(a, mode):\n",
    "    for col in range(a.shape[1]):\n",
    "        values = a[:, col]\n",
    "        mask = np.isnan(values)\n",
    "\n",
    "        if mode == \"mean\":\n",
    "            a[mask, col] = np.nanmean(values)\n",
    "        elif mode == \"min\":\n",
    "            a[mask, col] = np.nanmin(values)\n",
    "        elif mode == \"max\":\n",
    "            a[mask, col] = np.nanmax(values)\n",
    "\n",
    "    return a\n",
    "\n",
    "a = np.array([[np.nan, 200, 10],\n",
    "              [2, 110, np.nan],\n",
    "              [0, 120, 11],\n",
    "              [0, 400, np.nan],\n",
    "              [1, np.nan, 9]])\n",
    "mode = \"mean\"\n",
    "result = fill(a, mode)\n",
    "print(result)"
   ]
  },
  {
   "cell_type": "code",
   "execution_count": 42,
   "metadata": {
    "id": "YtIl7k8ZRNMV"
   },
   "outputs": [
    {
     "ename": "AssertionError",
     "evalue": "",
     "output_type": "error",
     "traceback": [
      "\u001b[1;31m---------------------------------------------------------------------------\u001b[0m",
      "\u001b[1;31mAssertionError\u001b[0m                            Traceback (most recent call last)",
      "Cell \u001b[1;32mIn[42], line 15\u001b[0m\n\u001b[0;32m      2\u001b[0m a \u001b[38;5;241m=\u001b[39m np\u001b[38;5;241m.\u001b[39marray([[np\u001b[38;5;241m.\u001b[39mnan, \u001b[38;5;241m200\u001b[39m, \u001b[38;5;241m10\u001b[39m],\n\u001b[0;32m      3\u001b[0m               [\u001b[38;5;241m2\u001b[39m, \u001b[38;5;241m110\u001b[39m, np\u001b[38;5;241m.\u001b[39mnan],\n\u001b[0;32m      4\u001b[0m               [\u001b[38;5;241m0\u001b[39m, \u001b[38;5;241m120\u001b[39m, \u001b[38;5;241m11\u001b[39m],\n\u001b[0;32m      5\u001b[0m               [\u001b[38;5;241m0\u001b[39m, \u001b[38;5;241m400\u001b[39m, np\u001b[38;5;241m.\u001b[39mnan],\n\u001b[0;32m      6\u001b[0m               [\u001b[38;5;241m1\u001b[39m, np\u001b[38;5;241m.\u001b[39mnan, \u001b[38;5;241m9\u001b[39m]])\n\u001b[0;32m      8\u001b[0m \u001b[38;5;28;01massert\u001b[39;00m np\u001b[38;5;241m.\u001b[39mall(fill(a, \u001b[38;5;124m\"\u001b[39m\u001b[38;5;124mmean\u001b[39m\u001b[38;5;124m\"\u001b[39m) \u001b[38;5;241m==\u001b[39m\n\u001b[0;32m      9\u001b[0m               [[\u001b[38;5;241m0.75\u001b[39m, \u001b[38;5;241m200.\u001b[39m,  \u001b[38;5;241m10.\u001b[39m],\n\u001b[0;32m     10\u001b[0m                [\u001b[38;5;241m2.\u001b[39m, \u001b[38;5;241m110.\u001b[39m,  \u001b[38;5;241m10.\u001b[39m],\n\u001b[0;32m     11\u001b[0m                [\u001b[38;5;241m0.\u001b[39m, \u001b[38;5;241m120.\u001b[39m,  \u001b[38;5;241m11.\u001b[39m],\n\u001b[0;32m     12\u001b[0m                [\u001b[38;5;241m0.\u001b[39m, \u001b[38;5;241m400.\u001b[39m,  \u001b[38;5;241m10.\u001b[39m],\n\u001b[0;32m     13\u001b[0m                [\u001b[38;5;241m1.\u001b[39m, \u001b[38;5;241m207.5\u001b[39m,   \u001b[38;5;241m9.\u001b[39m]])\n\u001b[1;32m---> 15\u001b[0m \u001b[38;5;28;01massert\u001b[39;00m np\u001b[38;5;241m.\u001b[39mall(fill(a, \u001b[38;5;124m\"\u001b[39m\u001b[38;5;124mmin\u001b[39m\u001b[38;5;124m\"\u001b[39m) \u001b[38;5;241m==\u001b[39m\n\u001b[0;32m     16\u001b[0m               [[\u001b[38;5;241m0.\u001b[39m, \u001b[38;5;241m200.\u001b[39m,  \u001b[38;5;241m10.\u001b[39m],\n\u001b[0;32m     17\u001b[0m                [\u001b[38;5;241m2.\u001b[39m, \u001b[38;5;241m110.\u001b[39m,   \u001b[38;5;241m9.\u001b[39m],\n\u001b[0;32m     18\u001b[0m                [\u001b[38;5;241m0.\u001b[39m, \u001b[38;5;241m120.\u001b[39m,  \u001b[38;5;241m11.\u001b[39m],\n\u001b[0;32m     19\u001b[0m                [\u001b[38;5;241m0.\u001b[39m, \u001b[38;5;241m400.\u001b[39m,   \u001b[38;5;241m9.\u001b[39m],\n\u001b[0;32m     20\u001b[0m                [\u001b[38;5;241m1.\u001b[39m, \u001b[38;5;241m110.\u001b[39m,   \u001b[38;5;241m9.\u001b[39m]])\n\u001b[0;32m     22\u001b[0m \u001b[38;5;28;01massert\u001b[39;00m np\u001b[38;5;241m.\u001b[39mall(fill(a, \u001b[38;5;124m\"\u001b[39m\u001b[38;5;124mmax\u001b[39m\u001b[38;5;124m\"\u001b[39m) \u001b[38;5;241m==\u001b[39m\n\u001b[0;32m     23\u001b[0m               [[\u001b[38;5;241m2.\u001b[39m, \u001b[38;5;241m200.\u001b[39m,  \u001b[38;5;241m10.\u001b[39m],\n\u001b[0;32m     24\u001b[0m                [\u001b[38;5;241m2.\u001b[39m, \u001b[38;5;241m110.\u001b[39m,  \u001b[38;5;241m11.\u001b[39m],\n\u001b[0;32m     25\u001b[0m                [\u001b[38;5;241m0.\u001b[39m, \u001b[38;5;241m120.\u001b[39m,  \u001b[38;5;241m11.\u001b[39m],\n\u001b[0;32m     26\u001b[0m                [\u001b[38;5;241m0.\u001b[39m, \u001b[38;5;241m400.\u001b[39m,  \u001b[38;5;241m11.\u001b[39m],\n\u001b[0;32m     27\u001b[0m                [\u001b[38;5;241m1.\u001b[39m, \u001b[38;5;241m400.\u001b[39m,   \u001b[38;5;241m9.\u001b[39m]])\n",
      "\u001b[1;31mAssertionError\u001b[0m: "
     ]
    }
   ],
   "source": [
    "# Do not modify this cell\n",
    "a = np.array([[np.nan, 200, 10],\n",
    "              [2, 110, np.nan],\n",
    "              [0, 120, 11],\n",
    "              [0, 400, np.nan],\n",
    "              [1, np.nan, 9]])\n",
    "\n",
    "assert np.all(fill(a, \"mean\") ==\n",
    "              [[0.75, 200.,  10.],\n",
    "               [2., 110.,  10.],\n",
    "               [0., 120.,  11.],\n",
    "               [0., 400.,  10.],\n",
    "               [1., 207.5,   9.]])\n",
    "\n",
    "assert np.all(fill(a, \"min\") ==\n",
    "              [[0., 200.,  10.],\n",
    "               [2., 110.,   9.],\n",
    "               [0., 120.,  11.],\n",
    "               [0., 400.,   9.],\n",
    "               [1., 110.,   9.]])\n",
    "\n",
    "assert np.all(fill(a, \"max\") ==\n",
    "              [[2., 200.,  10.],\n",
    "               [2., 110.,  11.],\n",
    "               [0., 120.,  11.],\n",
    "               [0., 400.,  11.],\n",
    "               [1., 400.,   9.]])"
   ]
  },
  {
   "cell_type": "markdown",
   "metadata": {
    "id": "u7qWg2sf_Hzg"
   },
   "source": [
    "Problem 8. Given a numpy matrix 'A' of sizes $n \\times n$ and a numpy vector 'b' of size n. You need to calculate the value of the expression\n",
    "$${1\\over2}\\mathbf{b}^TA^{-1}\\mathbf{b}*\\prod_{i}\\lambda_i ;\\text{ where  $\\lambda_i$  are eigenvalues of }A$$\n",
    "\n",
    ">Տրված է numpy մատրից 'A' $n \\times n$ չափերի և numpy վեկտոր 'b' n չափի։ Հարկավոր է հաշվել հետևյալ արտահայտության արժեքը։\n",
    "$${1\\over2}\\mathbf{b}^TA^{-1}\\mathbf{b}*\\prod_{i}\\lambda_i ; \\text{ որտեղ $\\lambda_i$֊երը A-ի սեփական արժեքներն են}$$\n",
    "\n",
    "```\n",
    "a = np.array([[1, 1, 2],\n",
    "              [0, 1, 3],\n",
    "              [1, 3, 0]])\n",
    "b = np.array([1, 0, 1])\n",
    "print(calc(a, b))\n",
    ">>-4.000000000000002\n",
    "```\n"
   ]
  },
  {
   "cell_type": "code",
   "execution_count": 54,
   "metadata": {
    "id": "h9rzRkL3_HL3"
   },
   "outputs": [
    {
     "name": "stdout",
     "output_type": "stream",
     "text": [
      "[[  4  12 -16]\n",
      " [ 12  37 -43]\n",
      " [-16 -43  98]]\n"
     ]
    }
   ],
   "source": [
    "import numpy as np\n",
    "# def calc(a, b):\n",
    "a = np.array([[1, 1, 2],\n",
    "              [0, 1, 3],\n",
    "              [1, 3, 0]])\n",
    "b = np.array([1, 0, 1])\n",
    "def calc(a, b):\n",
    " x = np.linalg.solve(a, b)\n",
    "print(x)"
   ]
  },
  {
   "cell_type": "code",
   "execution_count": 35,
   "metadata": {
    "id": "YRx66dcJRSad"
   },
   "outputs": [
    {
     "ename": "TypeError",
     "evalue": "type numpy.ndarray doesn't define __round__ method",
     "output_type": "error",
     "traceback": [
      "\u001b[1;31m---------------------------------------------------------------------------\u001b[0m",
      "\u001b[1;31mTypeError\u001b[0m                                 Traceback (most recent call last)",
      "Cell \u001b[1;32mIn[35], line 6\u001b[0m\n\u001b[0;32m      2\u001b[0m a \u001b[38;5;241m=\u001b[39m np\u001b[38;5;241m.\u001b[39marray([[\u001b[38;5;241m1\u001b[39m, \u001b[38;5;241m1\u001b[39m, \u001b[38;5;241m2\u001b[39m],\n\u001b[0;32m      3\u001b[0m               [\u001b[38;5;241m0\u001b[39m, \u001b[38;5;241m1\u001b[39m, \u001b[38;5;241m3\u001b[39m],\n\u001b[0;32m      4\u001b[0m               [\u001b[38;5;241m1\u001b[39m, \u001b[38;5;241m3\u001b[39m, \u001b[38;5;241m0\u001b[39m]])\n\u001b[0;32m      5\u001b[0m b \u001b[38;5;241m=\u001b[39m np\u001b[38;5;241m.\u001b[39marray([\u001b[38;5;241m1\u001b[39m, \u001b[38;5;241m0\u001b[39m, \u001b[38;5;241m1\u001b[39m])\n\u001b[1;32m----> 6\u001b[0m \u001b[38;5;28;01massert\u001b[39;00m \u001b[38;5;28;43mround\u001b[39;49m\u001b[43m(\u001b[49m\u001b[43mcalc\u001b[49m\u001b[43m(\u001b[49m\u001b[43ma\u001b[49m\u001b[43m,\u001b[49m\u001b[43m \u001b[49m\u001b[43mb\u001b[49m\u001b[43m)\u001b[49m\u001b[43m)\u001b[49m \u001b[38;5;241m==\u001b[39m \u001b[38;5;241m-\u001b[39m\u001b[38;5;241m4\u001b[39m\n\u001b[0;32m      8\u001b[0m a \u001b[38;5;241m=\u001b[39m np\u001b[38;5;241m.\u001b[39marray([[\u001b[38;5;241m1\u001b[39m, \u001b[38;5;241m1\u001b[39m, \u001b[38;5;241m2\u001b[39m],\n\u001b[0;32m      9\u001b[0m               [\u001b[38;5;241m0\u001b[39m, \u001b[38;5;241m1\u001b[39m, \u001b[38;5;241m3\u001b[39m],\n\u001b[0;32m     10\u001b[0m               [\u001b[38;5;241m1\u001b[39m, \u001b[38;5;241m3\u001b[39m, \u001b[38;5;241m0\u001b[39m]])\n\u001b[0;32m     11\u001b[0m b \u001b[38;5;241m=\u001b[39m np\u001b[38;5;241m.\u001b[39marray([\u001b[38;5;241m1\u001b[39m, \u001b[38;5;241m0\u001b[39m, \u001b[38;5;241m1\u001b[39m, \u001b[38;5;241m1\u001b[39m])\n",
      "\u001b[1;31mTypeError\u001b[0m: type numpy.ndarray doesn't define __round__ method"
     ]
    }
   ],
   "source": [
    "# Do not modify this cell\n",
    "a = np.array([[1, 1, 2],\n",
    "              [0, 1, 3],\n",
    "              [1, 3, 0]])\n",
    "b = np.array([1, 0, 1])\n",
    "assert round(calc(a, b)) == -4\n",
    "\n",
    "a = np.array([[1, 1, 2],\n",
    "              [0, 1, 3],\n",
    "              [1, 3, 0]])\n",
    "b = np.array([1, 0, 1, 1])\n",
    "assert calc(a, b) == \"DimensionError\"\n",
    "\n",
    "a = np.array([[1, 1, 2],\n",
    "              [1, 1, 3],\n",
    "              [3, 3, 0]])\n",
    "b = np.array([1, 0, 1])\n",
    "assert calc(a, b) == \"NotInvertableError\"\n",
    "\n",
    "a = np.array([[10, 1],\n",
    "              [-1, 1]])\n",
    "b = np.array([1, 1])\n",
    "assert round(calc(a, b), 2) == 5.5"
   ]
  },
  {
   "cell_type": "markdown",
   "metadata": {
    "id": "9qEBpp7fJJNW"
   },
   "source": [
    "Problem 9. Given a numpy matrix 'a' of sizes $m \\times n$ and the numbers 'k' and 'q' in the range [0,1]. You need to randomly select the 'k' part of the rows of 'a' (can be repeated) and the 'q' part of their columns (should not be repeated).\n",
    ">Տրված է numpy մատրից 'a' $m \\times n$ չափերի և [0,1] միջակայքի 'k' և 'q' թվեր։ Հարկավոր է պատահականորեն ընտրել 'a'ի տողերի 'k' մասը (կարող են կրկնվել) և դրանց սյուների 'q' մասը (չպետք է կրկնվեն)։\n",
    "\n",
    "```\n",
    "a = np.array([[1, 1, 2],\n",
    "              [0, 108, 3],\n",
    "              [1, 3, 65],\n",
    "              [50, 35, 5],\n",
    "              [5, 83, 110],\n",
    "              [98, 99, 10],\n",
    "              [8, 9, 103],\n",
    "              [9, 23, 15]])\n",
    "k = 0.25\n",
    "q = 0.6\n",
    "print(rand_rows_cols(a, k, q))\n",
    ">>[[83, 110],\n",
    "  [3, 65]]\n",
    "```\n"
   ]
  },
  {
   "cell_type": "code",
   "execution_count": 192,
   "metadata": {
    "id": "mf-1UJMuQF6w"
   },
   "outputs": [],
   "source": [
    "def rand_rows_cols(a, k, q):\n",
    "    arr = a[np.random.randint(0, a.shape[0], int(a.shape[0] * k))]\n",
    "    z = round(a.shape[1] * q)\n",
    "    return arr[::, :z]\n"
   ]
  },
  {
   "cell_type": "code",
   "execution_count": 193,
   "metadata": {
    "id": "6lxX0oJ-RZHM"
   },
   "outputs": [],
   "source": [
    "# Do not modify this cell\n",
    "a = np.array([[1, 1, 2],\n",
    "              [0, 108, 3],\n",
    "              [1, 3, 65],\n",
    "              [50, 35, 5],\n",
    "              [5, 83, 110],\n",
    "              [98, 99, 10],\n",
    "              [8, 9, 103],\n",
    "              [9, 23, 15]])\n",
    "k = 0.25\n",
    "q = 0.6\n",
    "\n",
    "for _ in range(100):\n",
    "    x1 = rand_rows_cols(a, k, q)\n",
    "    assert x1.shape == (2, 2)"
   ]
  },
  {
   "cell_type": "markdown",
   "metadata": {
    "id": "DTKtvW_xQE2e"
   },
   "source": [
    "Problem 10. Given a numpy matrix 'a' of sizes $m \\times n$. You need to find the rows of 'a' whose sum of elements is in the range [100,200).\n",
    ">Տրված է $m \\times n$ չափերի numpy մատրից 'a'։ Հարկավոր է գտնել 'a'-ի այն տողերը՝ որոնց էլեմենտների գումարը գտնվում է [100,200) միջակայքում։\n",
    "\n",
    "```\n",
    "a = np.array([[1, 1, 2],\n",
    "              [0, 108, 3],\n",
    "              [1, 3, 65],\n",
    "              [50, 35, 5],\n",
    "              [5, 83, 110],\n",
    "              [98, 99, 10],\n",
    "              [8, 9, 103],\n",
    "              [9, 23, 15]])\n",
    "print(between_100_200(a))\n",
    ">[[0, 108, 3],\n",
    "  [5, 83, 110],\n",
    "  [8, 9, 103]]\n",
    "```\n"
   ]
  },
  {
   "cell_type": "code",
   "execution_count": 32,
   "metadata": {
    "id": "l8hqApf5RF4F"
   },
   "outputs": [
    {
     "name": "stdout",
     "output_type": "stream",
     "text": [
      "[[  0 108   3]\n",
      " [  5  83 110]\n",
      " [  8   9 103]]\n"
     ]
    }
   ],
   "source": [
    "import numpy as np\n",
    "\n",
    "def between_100_200(a):\n",
    "    x = []\n",
    "    for i in a:\n",
    "        i_sum = sum(i)\n",
    "        if 100 <= i_sum < 200:\n",
    "            x.append(i)\n",
    "    my_array = np.array(x)\n",
    "    return my_array\n",
    "result = between_100_200(a)\n",
    "print(result)\n",
    "\n",
    "    \n"
   ]
  },
  {
   "cell_type": "code",
   "execution_count": 33,
   "metadata": {
    "id": "gTJFLL4mRoDd"
   },
   "outputs": [],
   "source": [
    "# Do not modify this cell\n",
    "a = np.array([[1, 1, 2],\n",
    "              [0, 108, 3],\n",
    "              [1, 3, 65],\n",
    "              [50, 35, 5],\n",
    "              [5, 83, 110],\n",
    "              [98, 99, 10],\n",
    "              [8, 9, 103],\n",
    "              [9, 23, 15]])\n",
    "assert np.all(between_100_200(a) ==\n",
    "              [[0, 108,   3],\n",
    "               [5,  83, 110],\n",
    "               [8,   9, 103]])\n",
    "\n",
    "a = np.array([[1, 1, 2],\n",
    "              [0, -108, 3],\n",
    "              [1, 3, 65],\n",
    "              [50, 35, 5]])\n",
    "assert len(between_100_200(a)) == 0"
   ]
  },
  {
   "cell_type": "markdown",
   "metadata": {
    "id": "zDqPZXfTeTCE"
   },
   "source": [
    "Problem 11. Get the L in the Cholesky decomposition of x.\n",
    "\n",
    "> Գտիր x-ի Չոլեսկու դեկոմպոզիցիայի L-ը:\n",
    "\n",
    "\n",
    "```\n",
    "x = np.array([[4, 12, -16], [12, 37, -43], [-16, -43, 98]], dtype=np.int32)\n",
    "print(Cholesky(x))\n",
    ">>[[ 2.  0.  0.]\n",
    " [ 6.  1.  0.]\n",
    " [-8.  5.  3.]]\n",
    "```\n",
    "\n"
   ]
  },
  {
   "cell_type": "code",
   "execution_count": 8,
   "metadata": {},
   "outputs": [],
   "source": [
    "import numpy as np"
   ]
  },
  {
   "cell_type": "code",
   "execution_count": 29,
   "metadata": {
    "id": "BviJ4WBsezUw"
   },
   "outputs": [
    {
     "name": "stdout",
     "output_type": "stream",
     "text": [
      "[[ 2.  0.  0.]\n",
      " [ 6.  1.  0.]\n",
      " [-8.  5.  3.]]\n"
     ]
    }
   ],
   "source": [
    "x = np.array([[4, 12, -16], [12, 37, -43], [-16, -43, 98]], dtype=np.int32)\n",
    "def Cholesky(x):\n",
    "    L = np.linalg.cholesky(x)\n",
    "    return L\n",
    "print(Cholesky(x))"
   ]
  },
  {
   "cell_type": "code",
   "execution_count": 30,
   "metadata": {
    "id": "kKl8RBEpRu_F"
   },
   "outputs": [],
   "source": [
    "\n",
    "# Do not modify this cell\n",
    "x = np.array([[4, 12, -16], [12, 37, -43], [-16, -43, 98]])\n",
    "assert np.all(Cholesky(x) ==\n",
    "              [[2.,  0.,  0.],\n",
    "               [6.,  1.,  0.],\n",
    "               [-8.,  5.,  3.]])"
   ]
  },
  {
   "cell_type": "markdown",
   "metadata": {
    "id": "XQPJDITsLvQh"
   },
   "source": [
    "Problem 12. Write a function to return a 2d array of given size with 1s on the border and 0s inside. \n",
    "\n",
    "Գրել ֆունկցիա, որը կվերադարձնի տրված չափանի երկչափ numpy array (քառակուսի մատրից), որտեղ եզրերում կլինեն 1-եր, իսկ ներսում՝ 0-ներ։  \n",
    "\n"
   ]
  },
  {
   "cell_type": "code",
   "execution_count": 55,
   "metadata": {
    "id": "bNXPkyjZLvab"
   },
   "outputs": [
    {
     "name": "stdout",
     "output_type": "stream",
     "text": [
      "[[1. 1. 1. 1.]\n",
      " [1. 0. 0. 1.]\n",
      " [1. 0. 0. 1.]\n",
      " [1. 1. 1. 1.]]\n"
     ]
    }
   ],
   "source": [
    "import numpy as np\n",
    "def zero_one(x):\n",
    "    x = np.zeros((2,2))\n",
    "    res = np.pad(x,pad_width=1,mode='constant',constant_values=1)\n",
    "    return res\n",
    "print(zero_one(x))\n"
   ]
  },
  {
   "cell_type": "code",
   "execution_count": 56,
   "metadata": {
    "id": "1aVhczlCL08R"
   },
   "outputs": [
    {
     "ename": "AssertionError",
     "evalue": "",
     "output_type": "error",
     "traceback": [
      "\u001b[1;31m---------------------------------------------------------------------------\u001b[0m",
      "\u001b[1;31mAssertionError\u001b[0m                            Traceback (most recent call last)",
      "Cell \u001b[1;32mIn[56], line 1\u001b[0m\n\u001b[1;32m----> 1\u001b[0m \u001b[38;5;28;01massert\u001b[39;00m np\u001b[38;5;241m.\u001b[39marray_equal(zero_one(\u001b[38;5;241m3\u001b[39m), np\u001b[38;5;241m.\u001b[39marray([[\u001b[38;5;241m1.\u001b[39m, \u001b[38;5;241m1.\u001b[39m, \u001b[38;5;241m1.\u001b[39m],\n\u001b[0;32m      2\u001b[0m                                             [\u001b[38;5;241m1.\u001b[39m, \u001b[38;5;241m0.\u001b[39m, \u001b[38;5;241m1.\u001b[39m],\n\u001b[0;32m      3\u001b[0m                                             [\u001b[38;5;241m1.\u001b[39m, \u001b[38;5;241m1.\u001b[39m, \u001b[38;5;241m1.\u001b[39m]]))\n\u001b[0;32m      4\u001b[0m \u001b[38;5;28;01massert\u001b[39;00m np\u001b[38;5;241m.\u001b[39marray_equal(zero_one(\u001b[38;5;241m4\u001b[39m), np\u001b[38;5;241m.\u001b[39marray([[\u001b[38;5;241m1.\u001b[39m, \u001b[38;5;241m1.\u001b[39m, \u001b[38;5;241m1.\u001b[39m, \u001b[38;5;241m1\u001b[39m],\n\u001b[0;32m      5\u001b[0m                                             [\u001b[38;5;241m1.\u001b[39m, \u001b[38;5;241m0.\u001b[39m, \u001b[38;5;241m0.\u001b[39m, \u001b[38;5;241m1\u001b[39m],\n\u001b[0;32m      6\u001b[0m                                             [\u001b[38;5;241m1.\u001b[39m, \u001b[38;5;241m0.\u001b[39m, \u001b[38;5;241m0.\u001b[39m, \u001b[38;5;241m1\u001b[39m],\n\u001b[0;32m      7\u001b[0m                                             [\u001b[38;5;241m1.\u001b[39m, \u001b[38;5;241m1.\u001b[39m, \u001b[38;5;241m1.\u001b[39m, \u001b[38;5;241m1\u001b[39m]]))\n",
      "\u001b[1;31mAssertionError\u001b[0m: "
     ]
    }
   ],
   "source": [
    "assert np.array_equal(zero_one(3), np.array([[1., 1., 1.],\n",
    "                                            [1., 0., 1.],\n",
    "                                            [1., 1., 1.]]))\n",
    "assert np.array_equal(zero_one(4), np.array([[1., 1., 1., 1],\n",
    "                                            [1., 0., 0., 1],\n",
    "                                            [1., 0., 0., 1],\n",
    "                                            [1., 1., 1., 1]]))"
   ]
  },
  {
   "cell_type": "code",
   "execution_count": null,
   "metadata": {},
   "outputs": [],
   "source": []
  },
  {
   "cell_type": "code",
   "execution_count": 374,
   "metadata": {},
   "outputs": [
    {
     "name": "stdout",
     "output_type": "stream",
     "text": [
      "1.25.1\n"
     ]
    }
   ],
   "source": []
  },
  {
   "cell_type": "code",
   "execution_count": null,
   "metadata": {},
   "outputs": [],
   "source": []
  }
 ],
 "metadata": {
  "colab": {
   "provenance": [
    {
     "file_id": "1mMByK9vWVZO8-tFUgOKCBSA_ZlhBQXnu",
     "timestamp": 1669904954457
    },
    {
     "file_id": "1G8x68SMa2zSu71Xww07aF72UWTYYTASt",
     "timestamp": 1660708988175
    }
   ]
  },
  "kernelspec": {
   "display_name": "Python 3 (ipykernel)",
   "language": "python",
   "name": "python3"
  },
  "language_info": {
   "codemirror_mode": {
    "name": "ipython",
    "version": 3
   },
   "file_extension": ".py",
   "mimetype": "text/x-python",
   "name": "python",
   "nbconvert_exporter": "python",
   "pygments_lexer": "ipython3",
   "version": "3.11.1"
  }
 },
 "nbformat": 4,
 "nbformat_minor": 4
}
